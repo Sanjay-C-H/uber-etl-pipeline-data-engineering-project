{
 "cells": [
  {
   "cell_type": "code",
   "execution_count": 53,
   "id": "24a5021a",
   "metadata": {},
   "outputs": [],
   "source": [
    "import findspark\n",
    "findspark.init()\n",
    "from itertools import chain\n",
    "from pyspark.sql import SparkSession\n",
    "from pyspark.sql.functions import *\n",
    "spark = SparkSession.builder.getOrCreate()"
   ]
  },
  {
   "cell_type": "code",
   "execution_count": 68,
   "id": "9aa3cf96",
   "metadata": {},
   "outputs": [
    {
     "data": {
      "text/plain": [
       "DataFrame[VendorID: int, tpep_pickup_datetime: timestamp, tpep_dropoff_datetime: timestamp, passenger_count: int, trip_distance: double, pickup_longitude: double, pickup_latitude: double, RatecodeID: int, store_and_fwd_flag: string, dropoff_longitude: double, dropoff_latitude: double, payment_type: int, fare_amount: double, extra: double, mta_tax: double, tip_amount: double, tolls_amount: double, improvement_surcharge: double, total_amount: double, trip_id: bigint]"
      ]
     },
     "execution_count": 68,
     "metadata": {},
     "output_type": "execute_result"
    }
   ],
   "source": [
    "uber_df = spark.read.csv('data/uber_data.csv', header=True, inferSchema=True).drop_duplicates()\n",
    "uber_df = uber_df.withColumn(\"trip_id\", monotonically_increasing_id())\n",
    "uber_df"
   ]
  },
  {
   "cell_type": "code",
   "execution_count": 55,
   "id": "385c6b79",
   "metadata": {},
   "outputs": [],
   "source": [
    "# Extract hours, day, month, year, weekday and create new columns.\n",
    "datetime_dim = uber_df.withColumn(\"datetime_id\", monotonically_increasing_id())\\\n",
    "                      .withColumn(\"pick_hour\", hour(\"tpep_pickup_datetime\"))\\\n",
    "                      .withColumn(\"pick_day\", dayofmonth(\"tpep_pickup_datetime\"))\\\n",
    "                      .withColumn(\"pick_month\", month(\"tpep_pickup_datetime\"))\\\n",
    "                      .withColumn(\"pick_year\", year(\"tpep_pickup_datetime\"))\\\n",
    "                      .withColumn(\"pick_weekday\", dayofweek(\"tpep_pickup_datetime\"))\\\n",
    "                      .withColumn(\"drop_hour\", hour(\"tpep_dropoff_datetime\"))\\\n",
    "                      .withColumn(\"drop_day\", dayofmonth(\"tpep_dropoff_datetime\"))\\\n",
    "                      .withColumn(\"drop_month\", month(\"tpep_dropoff_datetime\"))\\\n",
    "                      .withColumn(\"drop_year\", year(\"tpep_dropoff_datetime\"))\\\n",
    "                      .withColumn(\"drop_weekday\", dayofweek(\"tpep_dropoff_datetime\"))\\\n",
    "                      .selectExpr('datetime_id', 'tpep_pickup_datetime', 'pick_hour', 'pick_day', 'pick_month', 'pick_year', \n",
    "                                  'pick_weekday', 'tpep_dropoff_datetime', 'drop_hour', 'drop_day', 'drop_month', 'drop_year',\n",
    "                                  'drop_weekday')\n",
    "\n"
   ]
  },
  {
   "cell_type": "code",
   "execution_count": 56,
   "id": "eb3352d7",
   "metadata": {},
   "outputs": [],
   "source": [
    "passenger_count_dim = uber_df.withColumn(\"passenger_count_id\", monotonically_increasing_id())\\\n",
    "                             .select('passenger_count_id','passenger_count')\n",
    "\n",
    "trip_distance_dim = uber_df.withColumn(\"trip_distance_id\", monotonically_increasing_id())\\\n",
    "                           .select('trip_distance_id','trip_distance')"
   ]
  },
  {
   "cell_type": "code",
   "execution_count": 57,
   "id": "d3855d52",
   "metadata": {},
   "outputs": [],
   "source": [
    "rate_code_dim = uber_df.withColumn(\"rate_code_id\", monotonically_increasing_id())\\\n",
    "                       .withColumn(\"rate_code_name\", when(col(\"RatecodeID\") == 1, lit(\"Standard rate\"))\n",
    "                                                    .when(col(\"RatecodeID\") == 2, lit(\"JFK\"))\n",
    "                                                    .when(col(\"RatecodeID\") == 3, lit(\"Newark\"))\n",
    "                                                    .when(col(\"RatecodeID\") == 4, lit(\"Nassau or Westchester\"))\n",
    "                                                    .when(col(\"RatecodeID\") == 5, lit(\"Negotiated fare\"))\n",
    "                                                    .when(col(\"RatecodeID\") == 6, lit(\"Group ride\")))\\\n",
    "                                                    .select('rate_code_id','RatecodeID','rate_code_name')"
   ]
  },
  {
   "cell_type": "code",
   "execution_count": 58,
   "id": "e36193d5",
   "metadata": {},
   "outputs": [],
   "source": [
    "pickup_location_dim = uber_df.withColumn(\"pickup_location_id\", monotonically_increasing_id())\\\n",
    "                           .select('pickup_location_id','pickup_latitude','pickup_longitude')\n",
    "\n",
    "dropoff_location_dim = uber_df.withColumn(\"dropoff_location_id\", monotonically_increasing_id())\\\n",
    "                           .select('dropoff_location_id','dropoff_latitude','dropoff_longitude')"
   ]
  },
  {
   "cell_type": "code",
   "execution_count": 59,
   "id": "517732af",
   "metadata": {},
   "outputs": [
    {
     "name": "stdout",
     "output_type": "stream",
     "text": [
      "+------------+-----------------+\n",
      "|payment_type|payment_type_name|\n",
      "+------------+-----------------+\n",
      "|1           |Credit card      |\n",
      "|2           |Cash             |\n",
      "|3           |No charge        |\n",
      "|4           |Dispute          |\n",
      "+------------+-----------------+\n",
      "\n"
     ]
    }
   ],
   "source": [
    "payment_type_dict = {\n",
    "    1: \"Credit card\",\n",
    "    2: \"Cash\",\n",
    "    3: \"No charge\",\n",
    "    4: \"Dispute\",\n",
    "    5: \"Unknown\",\n",
    "    6: \"Voided trip\"\n",
    "}\n",
    "mapping_expr = create_map([lit(x) for x in chain(*payment_type_dict.items())])\n",
    "\n",
    "payment_type_dim = (\n",
    "    uber_df.withColumn(\"payment_type_id\", monotonically_increasing_id())\n",
    "           .withColumn(\"payment_type_name\", mapping_expr[col(\"payment_type\")])\n",
    "           .select(\"payment_type_id\", \"payment_type\", \"payment_type_name\")\n",
    ")\n",
    "\n",
    "payment_type_dim.dropDuplicates([\"payment_type\"]).select(\"payment_type\", \"payment_type_name\").show(truncate=False)"
   ]
  },
  {
   "cell_type": "code",
   "execution_count": 67,
   "id": "87c9eb9f",
   "metadata": {},
   "outputs": [
    {
     "data": {
      "text/plain": [
       "DataFrame[trip_id: bigint, VendorID: int, datetime_id: bigint, passenger_count_id: bigint, trip_distance_id: bigint, rate_code_id: bigint, store_and_fwd_flag: string, pickup_location_id: bigint, dropoff_location_id: bigint, payment_type_id: bigint, fare_amount: double, extra: double, mta_tax: double, tip_amount: double, tolls_amount: double, improvement_surcharge: double, total_amount: double]"
      ]
     },
     "execution_count": 67,
     "metadata": {},
     "output_type": "execute_result"
    }
   ],
   "source": [
    "id = ['passenger_count_id', 'trip_distance_id', 'rate_code_id', 'pickup_location_id', 'dropoff_location_id', 'datetime_id', 'payment_type_id']\n",
    "df = [passenger_count_dim, trip_distance_dim, rate_code_dim, pickup_location_dim, dropoff_location_dim, datetime_dim, payment_type_dim]\n",
    "fact_table = uber_df\n",
    "for i in range(len(df)):\n",
    "    fact_table = fact_table.join(df[i], on=col('trip_id') == col(id[i]), how='inner')\n",
    "\n",
    "\n",
    "fact_table = fact_table.select('trip_id','VendorID', 'datetime_id', 'passenger_count_id',\n",
    "               'trip_distance_id', 'rate_code_id', 'store_and_fwd_flag', 'pickup_location_id', 'dropoff_location_id',\n",
    "               'payment_type_id', 'fare_amount', 'extra', 'mta_tax', 'tip_amount', 'tolls_amount',\n",
    "               'improvement_surcharge', 'total_amount')\n",
    "fact_table"
   ]
  },
  {
   "cell_type": "code",
   "execution_count": null,
   "id": "b72e1554",
   "metadata": {},
   "outputs": [],
   "source": []
  }
 ],
 "metadata": {
  "kernelspec": {
   "display_name": "Python 3 (ipykernel)",
   "language": "python",
   "name": "python3"
  },
  "language_info": {
   "codemirror_mode": {
    "name": "ipython",
    "version": 3
   },
   "file_extension": ".py",
   "mimetype": "text/x-python",
   "name": "python",
   "nbconvert_exporter": "python",
   "pygments_lexer": "ipython3",
   "version": "3.11.5"
  }
 },
 "nbformat": 4,
 "nbformat_minor": 5
}
